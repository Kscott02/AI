{
  "nbformat": 4,
  "nbformat_minor": 0,
  "metadata": {
    "colab": {
      "provenance": [],
      "authorship_tag": "ABX9TyP8NC2db50UonPp5JTGsvMx",
      "include_colab_link": true
    },
    "kernelspec": {
      "name": "python3",
      "display_name": "Python 3"
    },
    "language_info": {
      "name": "python"
    }
  },
  "cells": [
    {
      "cell_type": "markdown",
      "metadata": {
        "id": "view-in-github",
        "colab_type": "text"
      },
      "source": [
        "<a href=\"https://colab.research.google.com/github/Kscott02/AI/blob/main/CSC362_HW1.ipynb\" target=\"_parent\"><img src=\"https://colab.research.google.com/assets/colab-badge.svg\" alt=\"Open In Colab\"/></a>"
      ]
    },
    {
      "cell_type": "code",
      "source": [
        "class WaterJugPuzzle:\n",
        "    def __init__(self):\n",
        "        # state is represented as (large_jug, small_jug)\n",
        "        self.large = 0  # 5L\n",
        "        self.small = 0  # 3L\n",
        "        self._large = 0\n",
        "        self._small = 0\n",
        "\n",
        "    def save_state(self):\n",
        "        self._large = self.large\n",
        "        self._small = self.small\n",
        "\n",
        "    def undo_state(self):\n",
        "        self.large = self._large\n",
        "        self.small = self._small\n",
        "\n",
        "    # Capacity Rules\n",
        "\n",
        "    def large_not_too_full(self):\n",
        "        return self.large <= 5\n",
        "\n",
        "    def small_not_too_full(self):\n",
        "        return self.small <= 3\n",
        "\n",
        "    def large_not_below_zero(self):\n",
        "        return self.large >= 0\n",
        "\n",
        "    def small_not_below_zero(self):\n",
        "        return self.small >= 0\n",
        "\n",
        "    def state_good(self):\n",
        "        return self.large_not_too_full() and self.small_not_too_full() and self.large_not_below_zero() and self.small_not_below_zero()\n",
        "\n",
        "\n",
        "    # Rule 1: Fill the large jug\n",
        "    def R1_fill_large(self):\n",
        "        self.save_state()\n",
        "        self.large = 5\n",
        "        if not self.state_good():\n",
        "            self.undo_state()\n",
        "\n",
        "    # Rule 2: Fill the small\n",
        "    def R2_fill_small(self):\n",
        "        self.save_state()\n",
        "        self.small = 3\n",
        "        if not self.state_good():\n",
        "            self.undo_state()\n",
        "\n",
        "    # Rule 3: Empty the large jug\n",
        "    def R3_empty_large(self):\n",
        "        self.save_state()\n",
        "        self.large = 0\n",
        "        if not self.state_good():\n",
        "            self.undo_state()\n",
        "\n",
        "    # Rule 4: Empty the small jug\n",
        "    def R4_empty_small(self):\n",
        "        self.save_state()\n",
        "        self.small = 0\n",
        "        if not self.state_good():\n",
        "            self.undo_state()\n",
        "\n",
        "    # Rule 5: Pour large -> small\n",
        "    def R5_large_to_small(self):\n",
        "        self.save_state()\n",
        "        transfer = min(self.large, 3 - self.small)\n",
        "        self.large -= transfer\n",
        "        self.small += transfer\n",
        "        if not self.state_good():\n",
        "            self.undo_state()\n",
        "\n",
        "    # Rule 6: Pour small -> large\n",
        "    def R6_small_to_large(self):\n",
        "        self.save_state()\n",
        "        transfer = min(self.small, 5 - self.large)\n",
        "        self.small -= transfer\n",
        "        self.large += transfer\n",
        "        if not self.state_good():\n",
        "            self.undo_state()\n",
        "\n",
        "\n",
        "    def print_state(self):\n",
        "        print(f\"Large jug: {self.large}L, Small jug: {self.small}L\")\n",
        "\n"
      ],
      "metadata": {
        "id": "KHFV_0VgnQ6O"
      },
      "execution_count": 1,
      "outputs": []
    },
    {
      "cell_type": "code",
      "source": [
        "# Solution run:\n",
        "if __name__ == \"__main__\":\n",
        "    jug = WaterJugPuzzle()\n",
        "\n",
        "    # Step 1: Fill the large jug\n",
        "    jug.R1_fill_large()\n",
        "    jug.print_state()\n",
        "\n",
        "    # Step 2: Fill the small jug from the large jug\n",
        "    jug.R5_large_to_small()\n",
        "    jug.print_state()\n",
        "\n",
        "    # Step 3: Empty the small jug\n",
        "    jug.R4_empty_small()\n",
        "    jug.print_state()\n",
        "\n",
        "    # Step 4: Pour 2L from large -> small\n",
        "    jug.R5_large_to_small()\n",
        "    jug.print_state()\n",
        "\n",
        "    # Step 5: Refill the large jug\n",
        "    jug.R1_fill_large()\n",
        "    jug.print_state()\n",
        "\n",
        "    # Step 6: Pour 1L from large -> small\n",
        "    jug.R5_large_to_small()\n",
        "    jug.print_state()\n",
        "\n",
        "    print(\"\\nFinal Goal: Large jug has 4L :)\")\n"
      ],
      "metadata": {
        "colab": {
          "base_uri": "https://localhost:8080/"
        },
        "id": "mCcWD9K2H3ga",
        "outputId": "6d0747f6-aa97-4911-e050-e2c3e891ade6"
      },
      "execution_count": 2,
      "outputs": [
        {
          "output_type": "stream",
          "name": "stdout",
          "text": [
            "Large jug: 5L, Small jug: 0L\n",
            "Large jug: 2L, Small jug: 3L\n",
            "Large jug: 2L, Small jug: 0L\n",
            "Large jug: 0L, Small jug: 2L\n",
            "Large jug: 5L, Small jug: 2L\n",
            "Large jug: 4L, Small jug: 3L\n",
            "\n",
            "Final Goal: Large jug has 4L :)\n"
          ]
        }
      ]
    }
  ]
}