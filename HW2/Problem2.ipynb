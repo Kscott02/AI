{
  "nbformat": 4,
  "nbformat_minor": 0,
  "metadata": {
    "colab": {
      "provenance": [],
      "authorship_tag": "ABX9TyPcVNuQClil7Ey3sPMOVCkM",
      "include_colab_link": true
    },
    "kernelspec": {
      "name": "python3",
      "display_name": "Python 3"
    },
    "language_info": {
      "name": "python"
    }
  },
  "cells": [
    {
      "cell_type": "markdown",
      "metadata": {
        "id": "view-in-github",
        "colab_type": "text"
      },
      "source": [
        "<a href=\"https://colab.research.google.com/github/Kscott02/AI/blob/main/HW2/Problem2.ipynb\" target=\"_parent\"><img src=\"https://colab.research.google.com/assets/colab-badge.svg\" alt=\"Open In Colab\"/></a>"
      ]
    },
    {
      "cell_type": "markdown",
      "source": [
        "# Kevin Scott, CSC 362, Assignment 2, Problem 2, 9/26/25"
      ],
      "metadata": {
        "id": "Eq_GzODh4wPm"
      }
    },
    {
      "cell_type": "markdown",
      "source": [
        "# 2)"
      ],
      "metadata": {
        "id": "sxZFbIjeCH_n"
      }
    },
    {
      "cell_type": "code",
      "source": [
        "# See https://realpython.com/python-deque/\n",
        "\n",
        "from collections import deque\n",
        "\n",
        "# Start the graph search from root using a doubly-ended queue\n",
        "\n",
        "def PotentialFriends(graph, friend):\n",
        "\n",
        "    # deque is list-like container with fast appends and pops on either end\n",
        "    visited, queue = set(), deque([(friend, 0)]) # Store level with user\n",
        "    visited.add(friend)\n",
        "\n",
        "    potential_friends_list = []\n",
        "\n",
        "    # Keep exploring as long as the queue is not empty\n",
        "    while queue:\n",
        "\n",
        "        # Dequeue a vertex from queue\n",
        "        vertex, level = queue.popleft() # Unpack vertex and level\n",
        "\n",
        "        # If not the starting friend and not an immediate neighbor (level 1), add to the list\n",
        "        if vertex != friend and level > 1:\n",
        "             potential_friends_list.append(vertex)\n",
        "\n",
        "        # If not visited, mark it as visited, and enqueue it\n",
        "        for neighbor in graph[vertex]:\n",
        "            if neighbor not in visited:\n",
        "                visited.add(neighbor)\n",
        "                queue.append((neighbor, level + 1)) # Append neighbor and its level\n",
        "\n",
        "    return potential_friends_list"
      ],
      "metadata": {
        "id": "mkai43zWCfNF"
      },
      "execution_count": null,
      "outputs": []
    },
    {
      "cell_type": "code",
      "source": [
        "# Represent the graph using an adjacency list\n",
        "graph2 = {\n",
        "   'Adam' : ['Maria'],\n",
        "   'Maria' : ['Adam', 'Sophia', 'Maya', 'David'],\n",
        "   'Sophia' : ['Maria', 'Maya'],\n",
        "   'Maya' : ['Maria', 'Sophia', 'David'],\n",
        "   'David' : ['Maria', 'Maya']\n",
        "}\n",
        "\n",
        "print(f\"Adam: {PotentialFriends(graph2, 'Adam')}\")\n",
        "print(f\"David: {PotentialFriends(graph2, 'David')}\")\n",
        "print(f\"Sophia: {PotentialFriends(graph2, 'Sophia')}\")"
      ],
      "metadata": {
        "colab": {
          "base_uri": "https://localhost:8080/"
        },
        "id": "h2VGqgwdEdJE",
        "outputId": "50354507-2584-443a-abc2-f7349f1a8d86"
      },
      "execution_count": null,
      "outputs": [
        {
          "output_type": "stream",
          "name": "stdout",
          "text": [
            "Adam: ['Sophia', 'Maya', 'David']\n",
            "David: ['Adam', 'Sophia']\n",
            "Sophia: ['Adam', 'David']\n"
          ]
        }
      ]
    }
  ]
}