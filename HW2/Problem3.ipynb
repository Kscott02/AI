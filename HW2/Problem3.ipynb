{
  "nbformat": 4,
  "nbformat_minor": 0,
  "metadata": {
    "colab": {
      "provenance": [],
      "authorship_tag": "ABX9TyMdb1ZcCrS4fqiAbhM9p8GH",
      "include_colab_link": true
    },
    "kernelspec": {
      "name": "python3",
      "display_name": "Python 3"
    },
    "language_info": {
      "name": "python"
    }
  },
  "cells": [
    {
      "cell_type": "markdown",
      "metadata": {
        "id": "view-in-github",
        "colab_type": "text"
      },
      "source": [
        "<a href=\"https://colab.research.google.com/github/Kscott02/AI/blob/main/HW2/Problem3.ipynb\" target=\"_parent\"><img src=\"https://colab.research.google.com/assets/colab-badge.svg\" alt=\"Open In Colab\"/></a>"
      ]
    },
    {
      "cell_type": "markdown",
      "source": [
        "# Kevin Scott, CSC 362, Assignment 2, Problem 3, 9/26/25"
      ],
      "metadata": {
        "id": "Eq_GzODh4wPm"
      }
    },
    {
      "cell_type": "markdown",
      "source": [
        "# 3)"
      ],
      "metadata": {
        "id": "O2zuCKXOH40V"
      }
    },
    {
      "cell_type": "markdown",
      "source": [
        "# A)"
      ],
      "metadata": {
        "id": "-jYMW3P9j9YT"
      }
    },
    {
      "cell_type": "code",
      "source": [
        "# See https://realpython.com/python-deque/\n",
        "\n",
        "from collections import deque\n",
        "\n",
        "# Start the graph search from root using a doubly-ended queue\n",
        "# both these combinations work for DFS: append/pop and appendleft/popleft\n",
        "\n",
        "def DFS(graph, root, goal):\n",
        "\n",
        "    # deque is list-like container with fast appends and pops on either end\n",
        "    visited, queue = set(), deque([root])\n",
        "    visited.add(root)\n",
        "\n",
        "    # Keep exploring as long as the queue is not empty\n",
        "    while queue:\n",
        "\n",
        "        # Dequeue a vertex from queue\n",
        "        vertex = queue.pop()\n",
        "        print(vertex, end=\" \")\n",
        "\n",
        "        # Check if the current vertex is the goal\n",
        "        if vertex == goal:\n",
        "            print(\"\\nSUCCESS\")\n",
        "            return\n",
        "\n",
        "        # If not visited, mark the node as visited and enqueue it\n",
        "\n",
        "        for neighbor in reversed(graph.get(vertex, [])):\n",
        "            if neighbor not in visited:\n",
        "                visited.add(neighbor)\n",
        "                queue.append(neighbor)\n",
        "\n",
        "    print(\"\\nFAILURE\")\n",
        "    return"
      ],
      "metadata": {
        "id": "2ckT13ZpH6me"
      },
      "execution_count": 1,
      "outputs": []
    },
    {
      "cell_type": "code",
      "source": [
        "# Represent the graph using an adjacency list\n",
        "\n",
        "graph3 = {\n",
        "  'S' : ['0'],\n",
        "  '0' : ['1','5'],\n",
        "  '1' : ['0', '2'],\n",
        "  '2' : ['1', '3'],\n",
        "  '3' : ['2', '4'],\n",
        "  '4' : ['3'],\n",
        "  '5' : ['6'],\n",
        "  '6' : ['5', '7'],\n",
        "  '7' : ['6','8'],\n",
        "  '8' : ['7', '9', '12'],\n",
        "  '9' : ['8', '10'],\n",
        "  '10' : ['9', '11'],\n",
        "  '11' : ['10'],\n",
        "  '12' : ['8', '13'],\n",
        "  '13' : ['12', '14'],\n",
        "  '14' : ['13', '15'],\n",
        "  '15' : ['14', '16'],\n",
        "  '16' : ['15', '17'],\n",
        "  '17' : ['16', '18'],\n",
        "  '18' : ['17', '19', '21'],\n",
        "  '19' : ['18', '20'],\n",
        "  '20' : ['19'],\n",
        "  '21' : ['18', '22', '25'],\n",
        "  '22' : ['21', '23'],\n",
        "  '23' : ['22', '24'],\n",
        "  '24' : ['23'],\n",
        "  '25' : ['21', '26'],\n",
        "  '26' : ['25', '27'],\n",
        "  '27' : ['26', '28'],\n",
        "  '28' : ['27', '29'],\n",
        "  '29' : ['28', '30'],\n",
        "  '30' : ['29', '31'],\n",
        "  '31' : ['30', '32', '35'],\n",
        "  '32' : ['31', '33'],\n",
        "  '33' : ['32', '34'],\n",
        "  '34' : ['33'],\n",
        "  '35' : ['31', '36'],\n",
        "  '36' : ['35', '37'],\n",
        "  '37' : ['36', '38'],\n",
        "  '38' : ['37', '39'],\n",
        "  '39' : ['38', '40'],\n",
        "  '40' : ['39', '41'],\n",
        "  '41' : ['40', '42'],\n",
        "  '42' : ['41', '43', '45'],\n",
        "  '43' : ['42', '44'],\n",
        "  '44' : ['43'],\n",
        "  '45' : ['42', '46'],\n",
        "  '46' : ['45', '47', '48'],\n",
        "  '47' : ['46'],\n",
        "  '48' : ['46', '49'],\n",
        "  '49' : ['48', 'G'],\n",
        "  'G' : ['49']\n",
        "}\n",
        "\n",
        "DFS(graph3, 'S', 'G')"
      ],
      "metadata": {
        "colab": {
          "base_uri": "https://localhost:8080/"
        },
        "id": "you3E7UuhVxE",
        "outputId": "11e19497-087a-410a-bc57-a51796704340"
      },
      "execution_count": 5,
      "outputs": [
        {
          "output_type": "stream",
          "name": "stdout",
          "text": [
            "S 0 1 2 3 4 5 6 7 8 9 10 11 12 13 14 15 16 17 18 19 20 21 22 23 24 25 26 27 28 29 30 31 32 33 34 35 36 37 38 39 40 41 42 43 44 45 46 47 48 49 G \n",
            "SUCCESS\n"
          ]
        }
      ]
    },
    {
      "cell_type": "markdown",
      "source": [
        "# B)"
      ],
      "metadata": {
        "id": "lx97qiJvkAfs"
      }
    },
    {
      "cell_type": "code",
      "source": [
        "graph4 = {\n",
        "  'S' : ['0'],\n",
        "  '0' : ['1','5'],\n",
        "  '1' : ['0', '2'],\n",
        "  '2' : ['1', '3'],\n",
        "  '3' : ['2', '4'],\n",
        "  '4' : ['3'],\n",
        "  '5' : ['6'],\n",
        "  '6' : ['5', '7'],\n",
        "  '7' : ['6'],\n",
        "  '8' : ['9', '12'],\n",
        "  '9' : ['8', '10'],\n",
        "  '10' : ['9', '11'],\n",
        "  '11' : ['10'],\n",
        "  '12' : ['8', '13'],\n",
        "  '13' : ['12', '14'],\n",
        "  '14' : ['13', '15'],\n",
        "  '15' : ['14', '16'],\n",
        "  '16' : ['15', '17'],\n",
        "  '17' : ['16', '18'],\n",
        "  '18' : ['17', '19', '21'],\n",
        "  '19' : ['18', '20'],\n",
        "  '20' : ['19'],\n",
        "  '21' : ['18', '22', '25'],\n",
        "  '22' : ['21', '23'],\n",
        "  '23' : ['22', '24'],\n",
        "  '24' : ['23'],\n",
        "  '25' : ['21', '26'],\n",
        "  '26' : ['25', '27'],\n",
        "  '27' : ['26', '28'],\n",
        "  '28' : ['27', '29'],\n",
        "  '29' : ['28', '30'],\n",
        "  '30' : ['29', '31'],\n",
        "  '31' : ['30', '32', '35'],\n",
        "  '32' : ['31', '33'],\n",
        "  '33' : ['32', '34'],\n",
        "  '34' : ['33'],\n",
        "  '35' : ['31', '36'],\n",
        "  '36' : ['35', '37'],\n",
        "  '37' : ['36', '38'],\n",
        "  '38' : ['37', '39'],\n",
        "  '39' : ['38', '40'],\n",
        "  '40' : ['39', '41'],\n",
        "  '41' : ['40', '42'],\n",
        "  '42' : ['41', '43', '45'],\n",
        "  '43' : ['42', '44'],\n",
        "  '44' : ['43'],\n",
        "  '45' : ['42', '46'],\n",
        "  '46' : ['45', '47', '48'],\n",
        "  '47' : ['46'],\n",
        "  '48' : ['46', '49'],\n",
        "  '49' : ['48', 'G'],\n",
        "  'G' : ['49']\n",
        "}\n",
        "\n",
        "DFS(graph4, 'S', 'G')"
      ],
      "metadata": {
        "id": "tUNu46FnkCt1",
        "colab": {
          "base_uri": "https://localhost:8080/"
        },
        "outputId": "e3c74911-1983-4f53-9f32-155b61192ef0"
      },
      "execution_count": 9,
      "outputs": [
        {
          "output_type": "stream",
          "name": "stdout",
          "text": [
            "0 1 2 3 4 5 6 7 \n",
            "FAILURE\n"
          ]
        }
      ]
    }
  ]
}