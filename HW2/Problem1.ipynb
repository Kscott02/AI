{
  "nbformat": 4,
  "nbformat_minor": 0,
  "metadata": {
    "colab": {
      "provenance": [],
      "authorship_tag": "ABX9TyMaO26YpuVKTkEVLFqleqb2",
      "include_colab_link": true
    },
    "kernelspec": {
      "name": "python3",
      "display_name": "Python 3"
    },
    "language_info": {
      "name": "python"
    }
  },
  "cells": [
    {
      "cell_type": "markdown",
      "metadata": {
        "id": "view-in-github",
        "colab_type": "text"
      },
      "source": [
        "<a href=\"https://colab.research.google.com/github/Kscott02/AI/blob/main/HW2/Problem1.ipynb\" target=\"_parent\"><img src=\"https://colab.research.google.com/assets/colab-badge.svg\" alt=\"Open In Colab\"/></a>"
      ]
    },
    {
      "cell_type": "markdown",
      "source": [
        "# Kevin Scott, CSC 362, Assignment 2, Problem 1, 9/26/25"
      ],
      "metadata": {
        "id": "Eq_GzODh4wPm"
      }
    },
    {
      "cell_type": "markdown",
      "source": [
        "# 1)"
      ],
      "metadata": {
        "id": "3SCKI9yf4R8U"
      }
    },
    {
      "cell_type": "code",
      "source": [
        "# See https://realpython.com/python-deque/\n",
        "\n",
        "from collections import deque\n",
        "\n",
        "# Start the graph search from root using a doubly-ended queue\n",
        "\n",
        "def  FindFriends(G, user, K):\n",
        "\n",
        "    # deque is list-like container with fast appends and pops on either end\n",
        "    visited, queue = set(), deque([(user, 0)])\n",
        "    visited.add(user)\n",
        "\n",
        "    k_level_users = []\n",
        "\n",
        "    # Keep exploring as long as the queue is not empty\n",
        "    while queue:\n",
        "\n",
        "        # Dequeue a vertex from queue\n",
        "        vertex, level = queue.popleft()\n",
        "\n",
        "        if level == K:\n",
        "            k_level_users.append(vertex)\n",
        "\n",
        "        # If not visited, mark it as visited, and enqueue it\n",
        "        for neighbor in G[vertex]:\n",
        "            if neighbor not in visited:\n",
        "                visited.add(neighbor)\n",
        "                queue.append((neighbor, level + 1))\n",
        "\n",
        "    if user in k_level_users:\n",
        "        k_level_users.remove(user)\n",
        "    return k_level_users"
      ],
      "metadata": {
        "id": "EPlVSU364Vj0"
      },
      "execution_count": null,
      "outputs": []
    },
    {
      "cell_type": "code",
      "source": [
        "# Represent the graph using an adjacency list\n",
        "\n",
        "graph1 = {\n",
        "   'Richard' : ['Bob'],\n",
        "   'Bob' : ['Rob', 'Pam'],\n",
        "   'Rob' : ['Bob'],\n",
        "   'Pam' : ['Roger', 'Peter', 'Bob'],\n",
        "   'Peter' : ['Pam', 'Amy'],\n",
        "   'Amy' : ['Peter'],\n",
        "   'Roger' : ['Pam', 'Anna'],\n",
        "   'Anna' : ['Roger']\n",
        "}\n",
        "\n",
        "FindFriends(graph1, 'Bob', 3)"
      ],
      "metadata": {
        "colab": {
          "base_uri": "https://localhost:8080/"
        },
        "id": "tbnhF8g-5xz1",
        "outputId": "884ec466-776d-421b-e4b2-1467b6ebfffa"
      },
      "execution_count": null,
      "outputs": [
        {
          "output_type": "execute_result",
          "data": {
            "text/plain": [
              "['Anna', 'Amy']"
            ]
          },
          "metadata": {},
          "execution_count": 7
        }
      ]
    }
  ]
}